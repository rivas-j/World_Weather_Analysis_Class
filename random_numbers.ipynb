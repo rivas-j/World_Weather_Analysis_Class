{
 "cells": [
  {
   "cell_type": "code",
   "execution_count": 1,
   "id": "75f997a7",
   "metadata": {},
   "outputs": [],
   "source": [
    "# Import the random module.\n",
    "import random"
   ]
  },
  {
   "cell_type": "code",
   "execution_count": 2,
   "id": "b1f8137f",
   "metadata": {},
   "outputs": [
    {
     "data": {
      "text/plain": [
       "32"
      ]
     },
     "execution_count": 2,
     "metadata": {},
     "output_type": "execute_result"
    }
   ],
   "source": [
    "random.randint(-90,90)"
   ]
  },
  {
   "cell_type": "code",
   "execution_count": 5,
   "id": "03af3d96",
   "metadata": {},
   "outputs": [
    {
     "data": {
      "text/plain": [
       "[68.28269591209222,\n",
       " 75.10478612551714,\n",
       " 25.226993021354563,\n",
       " 11.903155614041376,\n",
       " 45.56781748798641,\n",
       " -5.376193805452121,\n",
       " 45.25299654970929,\n",
       " 38.249498828807575,\n",
       " -70.33493535351082,\n",
       " -72.43044505874822]"
      ]
     },
     "execution_count": 5,
     "metadata": {},
     "output_type": "execute_result"
    }
   ],
   "source": [
    "x = 1\n",
    "latitudes = []\n",
    "while x < 11:\n",
    "    random_lat = random.randint(-90, 89) + random.random()\n",
    "    latitudes.append(random_lat)\n",
    "    x += 1\n",
    "    \n",
    "latitudes"
   ]
  },
  {
   "cell_type": "code",
   "execution_count": 6,
   "id": "c085c851",
   "metadata": {},
   "outputs": [
    {
     "data": {
      "text/plain": [
       "39"
      ]
     },
     "execution_count": 6,
     "metadata": {},
     "output_type": "execute_result"
    }
   ],
   "source": [
    "random.randrange(-90,90, step=1)"
   ]
  },
  {
   "cell_type": "code",
   "execution_count": 7,
   "id": "55ccdec8",
   "metadata": {},
   "outputs": [
    {
     "data": {
      "text/plain": [
       "48"
      ]
     },
     "execution_count": 7,
     "metadata": {},
     "output_type": "execute_result"
    }
   ],
   "source": [
    "random.randrange(-90,90, step=3)"
   ]
  },
  {
   "cell_type": "code",
   "execution_count": 8,
   "id": "34f6b76a",
   "metadata": {},
   "outputs": [
    {
     "data": {
      "text/plain": [
       "-8.933921970398274"
      ]
     },
     "execution_count": 8,
     "metadata": {},
     "output_type": "execute_result"
    }
   ],
   "source": [
    "random.uniform(-90,90)"
   ]
  },
  {
   "cell_type": "code",
   "execution_count": 9,
   "id": "f56e02ec",
   "metadata": {},
   "outputs": [],
   "source": [
    "# Import the NumPy module.\n",
    "import numpy as np"
   ]
  },
  {
   "cell_type": "code",
   "execution_count": 12,
   "id": "10b08ee9",
   "metadata": {},
   "outputs": [
    {
     "data": {
      "text/plain": [
       "-19.46852816634035"
      ]
     },
     "execution_count": 12,
     "metadata": {},
     "output_type": "execute_result"
    }
   ],
   "source": [
    "np.random.uniform(-90.000, 90.000)"
   ]
  },
  {
   "cell_type": "code",
   "execution_count": 11,
   "id": "f8aa0890",
   "metadata": {},
   "outputs": [
    {
     "data": {
      "text/plain": [
       "array([-44.77474664,  58.99312224,  66.93939066,  -4.35472197,\n",
       "       -67.51697864,  -6.91789781,  17.24295754, -37.87615707,\n",
       "        89.39030274, -15.6322911 ,   5.54110636, -54.37195335,\n",
       "       -19.80007507, -23.58565598, -70.00236408, -51.84991255,\n",
       "       -46.20066404, -44.68952632, -36.83537468,  83.38605029,\n",
       "       -64.12980718, -35.66900594,  39.09970472,  -5.92966291,\n",
       "       -29.04691132, -32.4176234 , -62.25191487,  64.66254346,\n",
       "       -12.64335908,  19.14884013, -80.19209684, -23.81510807,\n",
       "       -84.13195256, -35.87697416, -63.99984022, -75.76638408,\n",
       "        -0.24891628, -25.76810482,  46.95374127, -71.82148947,\n",
       "        86.04967483, -51.16625718, -26.03843088, -34.79265653,\n",
       "        32.94092353,  13.16870081,  66.86616054, -53.62184588,\n",
       "         6.56974623, -74.28296128])"
      ]
     },
     "execution_count": 11,
     "metadata": {},
     "output_type": "execute_result"
    }
   ],
   "source": [
    "np.random.uniform(-90.000, 90.000, size=50)"
   ]
  },
  {
   "cell_type": "code",
   "execution_count": 13,
   "id": "606b0124",
   "metadata": {},
   "outputs": [],
   "source": [
    "# Import timeit.\n",
    "import timeit"
   ]
  },
  {
   "cell_type": "code",
   "execution_count": 14,
   "id": "5d31e441",
   "metadata": {},
   "outputs": [
    {
     "name": "stdout",
     "output_type": "stream",
     "text": [
      "15.6 µs ± 628 ns per loop (mean ± std. dev. of 7 runs, 100000 loops each)\n"
     ]
    }
   ],
   "source": [
    "%timeit np.random.uniform(-90.000, 90.000, size=1500)"
   ]
  },
  {
   "cell_type": "code",
   "execution_count": 15,
   "id": "878ebb3b",
   "metadata": {},
   "outputs": [
    {
     "name": "stdout",
     "output_type": "stream",
     "text": [
      "2.67 ms ± 427 µs per loop (mean ± std. dev. of 7 runs, 100 loops each)\n"
     ]
    }
   ],
   "source": [
    "def latitudes(size):\n",
    "    latitudes = []\n",
    "    x = 0\n",
    "    while x < (size):\n",
    "        random_lat = random.randint(-90, 90) + random.random()\n",
    "        latitudes.append(random_lat)\n",
    "        x += 1\n",
    "    return latitudes\n",
    "# Call the function with 1500.\n",
    "%timeit latitudes(1500)"
   ]
  },
  {
   "cell_type": "code",
   "execution_count": null,
   "id": "1ce2840c",
   "metadata": {},
   "outputs": [],
   "source": []
  }
 ],
 "metadata": {
  "kernelspec": {
   "display_name": "PythonData",
   "language": "python",
   "name": "pythondata"
  },
  "language_info": {
   "codemirror_mode": {
    "name": "ipython",
    "version": 3
   },
   "file_extension": ".py",
   "mimetype": "text/x-python",
   "name": "python",
   "nbconvert_exporter": "python",
   "pygments_lexer": "ipython3",
   "version": "3.7.11"
  }
 },
 "nbformat": 4,
 "nbformat_minor": 5
}
